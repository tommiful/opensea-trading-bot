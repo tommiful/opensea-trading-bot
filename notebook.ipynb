{
  "nbformat": 4,
  "nbformat_minor": 0,
  "metadata": {
    "colab": {
      "name": "Untitled86.ipynb",
      "provenance": []
    },
    "kernelspec": {
      "name": "python3",
      "display_name": "Python 3"
    },
    "language_info": {
      "name": "python"
    }
  },
  "cells": [
    {
      "cell_type": "code",
      "metadata": {
        "id": "M9zWuxL7iANu"
      },
      "source": [
        "!git clone https://github.com/clovisjohn/opensea-sniper-bot.git\n",
        "%cd ./opensea-sniper-bot\n",
        "!npm install"
      ],
      "execution_count": null,
      "outputs": []
    },
    {
      "cell_type": "code",
      "metadata": {
        "id": "NHZjywRbk1ny"
      },
      "source": [
        "# Your command here. \n",
        "# Ex !node main.js --args=...."
      ],
      "execution_count": null,
      "outputs": []
    }
  ]
}
